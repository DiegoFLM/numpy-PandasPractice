{
 "cells": [
  {
   "cell_type": "code",
   "execution_count": 55,
   "metadata": {},
   "outputs": [],
   "source": [
    "import numpy as np"
   ]
  },
  {
   "cell_type": "code",
   "execution_count": 56,
   "metadata": {},
   "outputs": [
    {
     "name": "stdout",
     "output_type": "stream",
     "text": [
      "[ 1  2  3  4  5  6  7  8  9 10]\n",
      "[6 7 8]\n"
     ]
    }
   ],
   "source": [
    "arr = np.linspace(1, 10, 10, dtype = 'int8')\n",
    "print(arr)\n",
    "bigNums = np.array([i for i in arr if ((i > 5) & (i < 9))])\n",
    "print(bigNums)"
   ]
  },
  {
   "cell_type": "code",
   "execution_count": 57,
   "metadata": {},
   "outputs": [
    {
     "name": "stdout",
     "output_type": "stream",
     "text": [
      "[ 4  5  6  7  8  9 10 11]\n",
      "[ 1  2  3  4  5  6  7  8  9 10]\n"
     ]
    }
   ],
   "source": [
    "indices_cond = arr > 2\n",
    "bigNums2 = arr[arr > 2]\n",
    "bigNums2[:] += 1\n",
    "print(bigNums2)\n",
    "print(arr)"
   ]
  },
  {
   "cell_type": "code",
   "execution_count": 58,
   "metadata": {},
   "outputs": [
    {
     "name": "stdout",
     "output_type": "stream",
     "text": [
      "[ 1  2  3  4  5 99 99 99 99 99]\n"
     ]
    }
   ],
   "source": [
    "arr[arr > 5] = 99\n",
    "print(arr)"
   ]
  },
  {
   "cell_type": "markdown",
   "metadata": {},
   "source": [
    "# np.where()"
   ]
  },
  {
   "cell_type": "code",
   "execution_count": 59,
   "metadata": {},
   "outputs": [
    {
     "name": "stdout",
     "output_type": "stream",
     "text": [
      "[[ 3 31 96 83 38]\n",
      " [73 74 47  0 54]\n",
      " [74  5 67 98 14]\n",
      " [67 42 49 27  7]\n",
      " [ 4 38 72 36 98]]\n",
      "[[0 0 1 1 0]\n",
      " [1 1 0 0 1]\n",
      " [1 0 1 1 0]\n",
      " [1 0 0 0 0]\n",
      " [0 0 1 0 1]]\n"
     ]
    }
   ],
   "source": [
    "matrix = np.random.randint(0, 100, (5, 5))\n",
    "print(matrix)\n",
    "matrix = np.where(matrix > 50, 1, 0)\n",
    "print(matrix)"
   ]
  }
 ],
 "metadata": {
  "kernelspec": {
   "display_name": "Python 3.9.12 ('base')",
   "language": "python",
   "name": "python3"
  },
  "language_info": {
   "codemirror_mode": {
    "name": "ipython",
    "version": 3
   },
   "file_extension": ".py",
   "mimetype": "text/x-python",
   "name": "python",
   "nbconvert_exporter": "python",
   "pygments_lexer": "ipython3",
   "version": "3.9.12"
  },
  "orig_nbformat": 4,
  "vscode": {
   "interpreter": {
    "hash": "66e37a4da3c390ba9102db785636e2db61d518923b2ca2e4091350072f76ee72"
   }
  }
 },
 "nbformat": 4,
 "nbformat_minor": 2
}
