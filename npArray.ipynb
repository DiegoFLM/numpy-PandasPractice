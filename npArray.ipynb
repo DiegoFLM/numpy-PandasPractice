{
 "cells": [
  {
   "cell_type": "code",
   "execution_count": 1,
   "metadata": {},
   "outputs": [],
   "source": [
    "import numpy as np\n",
    "import pandas as pd"
   ]
  },
  {
   "cell_type": "code",
   "execution_count": 2,
   "metadata": {},
   "outputs": [
    {
     "name": "stdout",
     "output_type": "stream",
     "text": [
      "[0, 1, 2, 3, 4, 5, 6, 7, 8, 9]\n",
      "<class 'list'>\n"
     ]
    }
   ],
   "source": [
    "lst = [i for i in range(0, 10)]\n",
    "print(lst)\n",
    "print(type(lst))"
   ]
  },
  {
   "cell_type": "code",
   "execution_count": 3,
   "metadata": {},
   "outputs": [
    {
     "name": "stdout",
     "output_type": "stream",
     "text": [
      "[0 1 2 3 4 5 6 7 8 9]\n",
      "<class 'numpy.ndarray'>\n"
     ]
    }
   ],
   "source": [
    "npArr = np.array(lst)\n",
    "print(npArr)\n",
    "print(type(npArr))"
   ]
  },
  {
   "cell_type": "markdown",
   "metadata": {},
   "source": [
    "## array slicing "
   ]
  },
  {
   "cell_type": "code",
   "execution_count": 4,
   "metadata": {},
   "outputs": [
    {
     "name": "stdout",
     "output_type": "stream",
     "text": [
      "[0 3 6 9]\n",
      "9\n",
      "[9 7 5 3 1]\n"
     ]
    }
   ],
   "source": [
    "print(npArr[::3])\n",
    "print(npArr[-1])\n",
    "print(npArr[::-2])"
   ]
  },
  {
   "cell_type": "code",
   "execution_count": 5,
   "metadata": {},
   "outputs": [
    {
     "name": "stdout",
     "output_type": "stream",
     "text": [
      "[[0, 1, 2], [3, 4, 5], [6, 7, 8]]\n",
      "[[0 1 2]\n",
      " [3 4 5]\n",
      " [6 7 8]]\n"
     ]
    }
   ],
   "source": [
    "matrix = [[0, 1, 2], [3, 4, 5], [6, 7, 8]]\n",
    "print(matrix)\n",
    "matrix = np.array(matrix)\n",
    "print(matrix)"
   ]
  },
  {
   "cell_type": "markdown",
   "metadata": {},
   "source": [
    "## Matrix slicing"
   ]
  },
  {
   "cell_type": "code",
   "execution_count": 6,
   "metadata": {},
   "outputs": [
    {
     "data": {
      "text/plain": [
       "array([[4, 5],\n",
       "       [7, 8]])"
      ]
     },
     "execution_count": 6,
     "metadata": {},
     "output_type": "execute_result"
    }
   ],
   "source": [
    "matrix[1:3,1:3]"
   ]
  },
  {
   "cell_type": "markdown",
   "metadata": {},
   "source": [
    "# Creating Numpy Arrays"
   ]
  },
  {
   "cell_type": "code",
   "execution_count": 7,
   "metadata": {},
   "outputs": [
    {
     "name": "stdout",
     "output_type": "stream",
     "text": [
      "[0 1 2 3]\n",
      "int64\n",
      "[0 3 6 9]\n"
     ]
    }
   ],
   "source": [
    "na0 = np.array([0, 1, 2, 3])\n",
    "print(na0)\n",
    "print(na0.dtype)\n",
    "na1 = np.arange(0, 10, 3)\n",
    "print(na1)"
   ]
  },
  {
   "cell_type": "markdown",
   "metadata": {},
   "source": [
    "## np.zeros; np.ones"
   ]
  },
  {
   "cell_type": "code",
   "execution_count": 8,
   "metadata": {},
   "outputs": [
    {
     "name": "stdout",
     "output_type": "stream",
     "text": [
      "[0. 0. 0. 0.]\n"
     ]
    }
   ],
   "source": [
    "zArr0 = np.zeros(4)\n",
    "print(zArr0)"
   ]
  },
  {
   "cell_type": "code",
   "execution_count": 9,
   "metadata": {},
   "outputs": [
    {
     "name": "stdout",
     "output_type": "stream",
     "text": [
      "[[0. 0. 0. 0. 0.]\n",
      " [0. 0. 0. 0. 0.]\n",
      " [0. 0. 0. 0. 0.]\n",
      " [0. 0. 0. 0. 0.]\n",
      " [0. 0. 0. 0. 0.]]\n"
     ]
    }
   ],
   "source": [
    "zMatrix0 = np.zeros(shape = (5, 5))\n",
    "print(zMatrix0)"
   ]
  },
  {
   "cell_type": "code",
   "execution_count": 10,
   "metadata": {},
   "outputs": [
    {
     "name": "stdout",
     "output_type": "stream",
     "text": [
      "[[[1. 1. 1. 1.]\n",
      "  [1. 1. 1. 1.]\n",
      "  [1. 1. 1. 1.]]\n",
      "\n",
      " [[1. 1. 1. 1.]\n",
      "  [1. 1. 1. 1.]\n",
      "  [1. 1. 1. 1.]]\n",
      "\n",
      " [[1. 1. 1. 1.]\n",
      "  [1. 1. 1. 1.]\n",
      "  [1. 1. 1. 1.]]]\n"
     ]
    }
   ],
   "source": [
    "oTensor0 = np.ones(shape = (3, 3, 4))\n",
    "print(oTensor0)"
   ]
  },
  {
   "cell_type": "code",
   "execution_count": 11,
   "metadata": {},
   "outputs": [
    {
     "name": "stdout",
     "output_type": "stream",
     "text": [
      "[ 0.          1.11111111  2.22222222  3.33333333  4.44444444  5.55555556\n",
      "  6.66666667  7.77777778  8.88888889 10.        ]\n"
     ]
    }
   ],
   "source": [
    "spacedArr = np.linspace(0, 10, 10)\n",
    "print(spacedArr)"
   ]
  },
  {
   "cell_type": "markdown",
   "metadata": {},
   "source": [
    "# Identity matrix: np.eye"
   ]
  },
  {
   "cell_type": "code",
   "execution_count": 12,
   "metadata": {},
   "outputs": [
    {
     "data": {
      "text/plain": [
       "array([[1., 0., 0., 0., 0.],\n",
       "       [0., 1., 0., 0., 0.],\n",
       "       [0., 0., 1., 0., 0.],\n",
       "       [0., 0., 0., 1., 0.],\n",
       "       [0., 0., 0., 0., 1.]])"
      ]
     },
     "execution_count": 12,
     "metadata": {},
     "output_type": "execute_result"
    }
   ],
   "source": [
    "np.eye(5)"
   ]
  },
  {
   "cell_type": "markdown",
   "metadata": {},
   "source": [
    "# np.random"
   ]
  },
  {
   "cell_type": "code",
   "execution_count": 13,
   "metadata": {},
   "outputs": [
    {
     "name": "stdout",
     "output_type": "stream",
     "text": [
      "0.8885681482766067\n",
      "[0.52546549 0.65100489 0.94175135 0.56316559]\n",
      "[[0.70494528 0.26248147 0.72133981]\n",
      " [0.02798097 0.80985029 0.61759886]\n",
      " [0.34872961 0.92862423 0.08634467]\n",
      " [0.59968433 0.83171948 0.22383599]\n",
      " [0.79204883 0.39490201 0.47398377]]\n"
     ]
    }
   ],
   "source": [
    "r = np.random.rand()\n",
    "print(r)\n",
    "randArr = np.random.rand(4)\n",
    "print(randArr)\n",
    "randMatrix = np.random.rand(5, 3)\n",
    "print(randMatrix)"
   ]
  },
  {
   "cell_type": "code",
   "execution_count": 14,
   "metadata": {},
   "outputs": [
    {
     "name": "stdout",
     "output_type": "stream",
     "text": [
      "2\n"
     ]
    }
   ],
   "source": [
    "#Random integer in [0, 9]\n",
    "print(np.random.randint(10))"
   ]
  },
  {
   "cell_type": "code",
   "execution_count": 15,
   "metadata": {},
   "outputs": [
    {
     "data": {
      "text/plain": [
       "array([[89,  9, 58, 30,  9, 84, 44, 54, 50, 12],\n",
       "       [90, 17, 83, 72, 93, 52,  2, 75, 61, 48],\n",
       "       [70, 76, 17, 75, 99, 63, 69, 54, 32, 67],\n",
       "       [93, 65, 90, 61, 61, 86, 88, 88, 32,  7],\n",
       "       [80, 90, 74, 70, 56,  4, 89, 18, 45, 14],\n",
       "       [50,  4, 43,  2, 26, 58, 56, 20, 38, 91],\n",
       "       [ 9, 97, 48, 98, 59, 32, 58, 63, 31, 91],\n",
       "       [66, 35, 72, 79,  3, 56, 51, 83, 16, 74],\n",
       "       [72, 22,  6, 93, 67, 71, 28, 63, 41, 67],\n",
       "       [25, 78, 63, 78, 42, 16, 25, 40, 65, 38]])"
      ]
     },
     "execution_count": 15,
     "metadata": {},
     "output_type": "execute_result"
    }
   ],
   "source": [
    "np.random.randint(1, 100, (10, 10))"
   ]
  },
  {
   "cell_type": "markdown",
   "metadata": {},
   "source": [
    "# np.reshape"
   ]
  },
  {
   "cell_type": "code",
   "execution_count": 16,
   "metadata": {},
   "outputs": [
    {
     "name": "stdout",
     "output_type": "stream",
     "text": [
      "[[8 3]\n",
      " [9 4]\n",
      " [9 9]]\n",
      "shape: (3, 2)\n",
      "np.reshape: C \n",
      "[[8]\n",
      " [3]\n",
      " [9]\n",
      " [4]\n",
      " [9]\n",
      " [9]]\n",
      "np.reshape: F \n",
      "[[8]\n",
      " [9]\n",
      " [9]\n",
      " [3]\n",
      " [4]\n",
      " [9]]\n"
     ]
    }
   ],
   "source": [
    "arr = np.random.randint(1, 10, (3, 2))\n",
    "print(arr)\n",
    "print('shape:', arr.shape)\n",
    "print('np.reshape: C ')\n",
    "reshapedArrC = arr.reshape((6, 1), order = 'C')\n",
    "print(reshapedArrC)\n",
    "print('np.reshape: F ')\n",
    "reshapedArrF = arr.reshape((6, 1), order = 'F')\n",
    "print(reshapedArrF)"
   ]
  },
  {
   "cell_type": "markdown",
   "metadata": {},
   "source": [
    "# np.max(), np.ptp()"
   ]
  },
  {
   "cell_type": "code",
   "execution_count": 17,
   "metadata": {},
   "outputs": [
    {
     "name": "stdout",
     "output_type": "stream",
     "text": [
      "[[23 39 40 25 36]\n",
      " [ 4 30 39  4  7]]\n",
      "matrix.max(): \t 40\n",
      "matrix.max(0): \t [23 39 40 25 36]\n",
      "matrix.max(1): \t [40 39]\n",
      "matrix.argmax():  2\n",
      "\n",
      "matrix.min() 4\n",
      "...\n",
      "\n",
      "matrix.pkp() 36\n",
      "\n",
      "matrix.pkp(0) [19  9  1 21 29]\n",
      "\n",
      "matrix.pkp(1) [17 35]\n"
     ]
    }
   ],
   "source": [
    "matrix = np.random.randint(0, 50, (2, 5))\n",
    "print(matrix)\n",
    "print('matrix.max(): \\t', matrix.max())\n",
    "print('matrix.max(0): \\t', matrix.max(0))\n",
    "print('matrix.max(1): \\t', matrix.max(1))\n",
    "print('matrix.argmax(): ', matrix.argmax())\n",
    "\n",
    "print('\\nmatrix.min()', matrix.min())\n",
    "print('...')\n",
    "\n",
    "#ptp := peak to peak\n",
    "print('\\nmatrix.pkp()', matrix.ptp()) \n",
    "print('\\nmatrix.pkp(0)', matrix.ptp(0))\n",
    "print('\\nmatrix.pkp(1)', matrix.ptp(1))  "
   ]
  },
  {
   "cell_type": "markdown",
   "metadata": {},
   "source": [
    "# np.percentile(), np.sort()"
   ]
  },
  {
   "cell_type": "code",
   "execution_count": 18,
   "metadata": {},
   "outputs": [
    {
     "name": "stdout",
     "output_type": "stream",
     "text": [
      "[[41 22 29 30 27]\n",
      " [26 34 22  3 23]]\n",
      "3.0\n",
      "26.5\n",
      "41.0\n",
      "np.median(matrix): 26.5\n",
      "np.median(matrix, 0): [33.5 28.  25.5 16.5 25. ]\n",
      "np.median(matrix, 1): [29. 23.]\n",
      "matrix.std(1): [ 6.24179461 10.20979921]\n",
      "matrix.std(0) ** 2: [ 56.25  36.    12.25 182.25   4.  ]\n",
      "matrix.var(0): [ 56.25  36.    12.25 182.25   4.  ]\n",
      "matrix.mean(1): [29.8 21.6]\n",
      "\n",
      "matrix.sort(0)\n",
      "[[26 22 22  3 23]\n",
      " [41 34 29 30 27]]\n"
     ]
    }
   ],
   "source": [
    "matrix = np.random.randint(0, 50, (2, 5))\n",
    "print(matrix)\n",
    "print(np.percentile(matrix, 0))\n",
    "print(np.percentile(matrix, 50))\n",
    "print(np.percentile(matrix, 100))\n",
    "\n",
    "print('np.median(matrix):', np.median(matrix))\n",
    "print('np.median(matrix, 0):', np.median(matrix, 0))\n",
    "print('np.median(matrix, 1):', np.median(matrix, 1))\n",
    "\n",
    "print('matrix.std(1):', matrix.std(1))\n",
    "\n",
    "print('matrix.std(0) ** 2:', matrix.std(0) ** 2)\n",
    "print('matrix.var(0):', matrix.var(0))\n",
    "\n",
    "print('matrix.mean(1):', matrix.mean(1))\n",
    "\n",
    "matrix.sort(0)\n",
    "print('\\nmatrix.sort(0)')\n",
    "print(matrix)"
   ]
  },
  {
   "cell_type": "markdown",
   "metadata": {},
   "source": [
    "# np.concatenate(), np.T"
   ]
  },
  {
   "cell_type": "code",
   "execution_count": 19,
   "metadata": {},
   "outputs": [
    {
     "name": "stdout",
     "output_type": "stream",
     "text": [
      "a:\n",
      "[[1 2]\n",
      " [3 4]]\n",
      "\n",
      "b:\n",
      "[5 6]\n",
      "\n",
      "np.expand_dims(c, axis = 1): \n",
      "[[5]\n",
      " [6]]\n",
      "np.concatenate((a, c), axis = 1)\n",
      "[[1 2 5]\n",
      " [3 4 6]]\n",
      "np.concatenate((a, c.T), axis = 0)\n",
      "[[1 2]\n",
      " [3 4]\n",
      " [5 6]]\n"
     ]
    }
   ],
   "source": [
    "a = np.array([[1, 2], [3, 4]])\n",
    "print('a:')\n",
    "print(a)\n",
    "\n",
    "b = np.array([5, 6])\n",
    "print('\\nb:')\n",
    "print(b)\n",
    "\n",
    "c = np.expand_dims(b, axis = 1)\n",
    "print('\\nnp.expand_dims(c, axis = 1): ')\n",
    "print(c)\n",
    "print('np.concatenate((a, c), axis = 1)')\n",
    "print(np.concatenate((a, c), axis = 1))\n",
    "\n",
    "#d = np.expand_dims(b, axis = 0)\n",
    "#print('\\nnp.expand_dims(d, axis = 0): ')\n",
    "#print(d)\n",
    "print('np.concatenate((a, c.T), axis = 0)')\n",
    "print(np.concatenate((a, c.T), axis = 0))"
   ]
  }
 ],
 "metadata": {
  "kernelspec": {
   "display_name": "Python 3.9.12 ('base')",
   "language": "python",
   "name": "python3"
  },
  "language_info": {
   "codemirror_mode": {
    "name": "ipython",
    "version": 3
   },
   "file_extension": ".py",
   "mimetype": "text/x-python",
   "name": "python",
   "nbconvert_exporter": "python",
   "pygments_lexer": "ipython3",
   "version": "3.9.12"
  },
  "orig_nbformat": 4,
  "vscode": {
   "interpreter": {
    "hash": "66e37a4da3c390ba9102db785636e2db61d518923b2ca2e4091350072f76ee72"
   }
  }
 },
 "nbformat": 4,
 "nbformat_minor": 2
}
