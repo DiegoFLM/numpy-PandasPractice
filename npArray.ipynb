{
 "cells": [
  {
   "cell_type": "code",
   "execution_count": 2,
   "metadata": {},
   "outputs": [],
   "source": [
    "import numpy as np\n",
    "import pandas as pd"
   ]
  },
  {
   "cell_type": "code",
   "execution_count": 3,
   "metadata": {},
   "outputs": [
    {
     "name": "stdout",
     "output_type": "stream",
     "text": [
      "[0, 1, 2, 3, 4, 5, 6, 7, 8, 9]\n",
      "<class 'list'>\n"
     ]
    }
   ],
   "source": [
    "lst = [i for i in range(0, 10)]\n",
    "print(lst)\n",
    "print(type(lst))"
   ]
  },
  {
   "cell_type": "code",
   "execution_count": 4,
   "metadata": {},
   "outputs": [
    {
     "name": "stdout",
     "output_type": "stream",
     "text": [
      "[0 1 2 3 4 5 6 7 8 9]\n",
      "<class 'numpy.ndarray'>\n"
     ]
    }
   ],
   "source": [
    "npArr = np.array(lst)\n",
    "print(npArr)\n",
    "print(type(npArr))"
   ]
  },
  {
   "cell_type": "markdown",
   "metadata": {},
   "source": [
    "## array slicing "
   ]
  },
  {
   "cell_type": "code",
   "execution_count": 5,
   "metadata": {},
   "outputs": [
    {
     "name": "stdout",
     "output_type": "stream",
     "text": [
      "[0 3 6 9]\n",
      "9\n",
      "[9 7 5 3 1]\n"
     ]
    }
   ],
   "source": [
    "print(npArr[::3])\n",
    "print(npArr[-1])\n",
    "print(npArr[::-2])"
   ]
  },
  {
   "cell_type": "code",
   "execution_count": 6,
   "metadata": {},
   "outputs": [
    {
     "name": "stdout",
     "output_type": "stream",
     "text": [
      "[[0, 1, 2], [3, 4, 5], [6, 7, 8]]\n",
      "[[0 1 2]\n",
      " [3 4 5]\n",
      " [6 7 8]]\n"
     ]
    }
   ],
   "source": [
    "matrix = [[0, 1, 2], [3, 4, 5], [6, 7, 8]]\n",
    "print(matrix)\n",
    "matrix = np.array(matrix)\n",
    "print(matrix)"
   ]
  },
  {
   "cell_type": "markdown",
   "metadata": {},
   "source": [
    "## Matrix slicing"
   ]
  },
  {
   "cell_type": "code",
   "execution_count": 7,
   "metadata": {},
   "outputs": [
    {
     "data": {
      "text/plain": [
       "array([[4, 5],\n",
       "       [7, 8]])"
      ]
     },
     "execution_count": 7,
     "metadata": {},
     "output_type": "execute_result"
    }
   ],
   "source": [
    "matrix[1:3,1:3]"
   ]
  },
  {
   "cell_type": "markdown",
   "metadata": {},
   "source": [
    "# Creating Numpy Arrays"
   ]
  },
  {
   "cell_type": "code",
   "execution_count": 17,
   "metadata": {},
   "outputs": [
    {
     "name": "stdout",
     "output_type": "stream",
     "text": [
      "[0 1 2 3]\n",
      "int64\n",
      "[0 3 6 9]\n"
     ]
    }
   ],
   "source": [
    "na0 = np.array([0, 1, 2, 3])\n",
    "print(na0)\n",
    "print(na0.dtype)\n",
    "na1 = np.arange(0, 10, 3)\n",
    "print(na1)"
   ]
  },
  {
   "cell_type": "markdown",
   "metadata": {},
   "source": [
    "## np.zeros; np.ones"
   ]
  },
  {
   "cell_type": "code",
   "execution_count": 21,
   "metadata": {},
   "outputs": [
    {
     "name": "stdout",
     "output_type": "stream",
     "text": [
      "[0. 0. 0. 0.]\n"
     ]
    }
   ],
   "source": [
    "zArr0 = np.zeros(4)\n",
    "print(zArr0)"
   ]
  },
  {
   "cell_type": "code",
   "execution_count": 24,
   "metadata": {},
   "outputs": [
    {
     "name": "stdout",
     "output_type": "stream",
     "text": [
      "[[0. 0. 0. 0. 0.]\n",
      " [0. 0. 0. 0. 0.]\n",
      " [0. 0. 0. 0. 0.]\n",
      " [0. 0. 0. 0. 0.]\n",
      " [0. 0. 0. 0. 0.]]\n"
     ]
    }
   ],
   "source": [
    "zMatrix0 = np.zeros(shape = (5, 5))\n",
    "print(zMatrix0)"
   ]
  },
  {
   "cell_type": "code",
   "execution_count": 26,
   "metadata": {},
   "outputs": [
    {
     "name": "stdout",
     "output_type": "stream",
     "text": [
      "[[[1. 1. 1. 1.]\n",
      "  [1. 1. 1. 1.]\n",
      "  [1. 1. 1. 1.]]\n",
      "\n",
      " [[1. 1. 1. 1.]\n",
      "  [1. 1. 1. 1.]\n",
      "  [1. 1. 1. 1.]]\n",
      "\n",
      " [[1. 1. 1. 1.]\n",
      "  [1. 1. 1. 1.]\n",
      "  [1. 1. 1. 1.]]]\n"
     ]
    }
   ],
   "source": [
    "oTensor0 = np.ones(shape = (3, 3, 4))\n",
    "print(oTensor0)"
   ]
  },
  {
   "cell_type": "code",
   "execution_count": 30,
   "metadata": {},
   "outputs": [
    {
     "name": "stdout",
     "output_type": "stream",
     "text": [
      "[ 0.          1.11111111  2.22222222  3.33333333  4.44444444  5.55555556\n",
      "  6.66666667  7.77777778  8.88888889 10.        ]\n"
     ]
    }
   ],
   "source": [
    "spacedArr = np.linspace(0, 10, 10)\n",
    "print(spacedArr)"
   ]
  },
  {
   "cell_type": "markdown",
   "metadata": {},
   "source": [
    "# Identity matrix: np.eye"
   ]
  },
  {
   "cell_type": "code",
   "execution_count": 31,
   "metadata": {},
   "outputs": [
    {
     "data": {
      "text/plain": [
       "array([[1., 0., 0., 0., 0.],\n",
       "       [0., 1., 0., 0., 0.],\n",
       "       [0., 0., 1., 0., 0.],\n",
       "       [0., 0., 0., 1., 0.],\n",
       "       [0., 0., 0., 0., 1.]])"
      ]
     },
     "execution_count": 31,
     "metadata": {},
     "output_type": "execute_result"
    }
   ],
   "source": [
    "np.eye(5)"
   ]
  },
  {
   "cell_type": "markdown",
   "metadata": {},
   "source": [
    "# np.random"
   ]
  },
  {
   "cell_type": "code",
   "execution_count": 37,
   "metadata": {},
   "outputs": [
    {
     "name": "stdout",
     "output_type": "stream",
     "text": [
      "0.42015738876639586\n",
      "[0.27547947 0.77017803 0.12579128 0.24187899]\n",
      "[[0.84796871 0.05186111 0.00238809]\n",
      " [0.59212516 0.70635646 0.34676756]\n",
      " [0.277728   0.1890824  0.53037156]\n",
      " [0.41652223 0.43463532 0.90622086]\n",
      " [0.18809441 0.06260121 0.57247758]]\n"
     ]
    }
   ],
   "source": [
    "r = np.random.rand()\n",
    "print(r)\n",
    "randArr = np.random.rand(4)\n",
    "print(randArr)\n",
    "randMatrix = np.random.rand(5, 3)\n",
    "print(randMatrix)"
   ]
  },
  {
   "cell_type": "code",
   "execution_count": 55,
   "metadata": {},
   "outputs": [
    {
     "name": "stdout",
     "output_type": "stream",
     "text": [
      "9\n"
     ]
    }
   ],
   "source": [
    "#Random integer in [0, 9]\n",
    "print(np.random.randint(10))"
   ]
  },
  {
   "cell_type": "code",
   "execution_count": 56,
   "metadata": {},
   "outputs": [
    {
     "data": {
      "text/plain": [
       "array([[51, 28, 60, 45, 15,  8, 18, 56, 20, 63],\n",
       "       [94, 19, 27, 88, 18, 38, 62, 34, 19, 24],\n",
       "       [37, 24, 72, 36, 34, 62, 12, 58, 22, 22],\n",
       "       [59, 44, 84,  5, 59, 73, 56, 27, 36, 38],\n",
       "       [ 1, 81,  3, 29, 51, 17, 67, 82, 84, 75],\n",
       "       [43, 22,  2, 84,  2, 13, 18, 81, 54, 40],\n",
       "       [63, 26, 76, 82, 22, 39, 76, 87, 34,  5],\n",
       "       [41, 74, 59, 24, 70, 36, 42, 15, 44, 16],\n",
       "       [70,  9, 90, 88, 55, 84, 11, 64, 75, 73],\n",
       "       [30, 87, 84, 24,  5,  3, 71, 38, 95, 38]])"
      ]
     },
     "execution_count": 56,
     "metadata": {},
     "output_type": "execute_result"
    }
   ],
   "source": [
    "np.random.randint(1, 100, (10, 10))"
   ]
  },
  {
   "cell_type": "markdown",
   "metadata": {},
   "source": [
    "# np.reshape"
   ]
  },
  {
   "cell_type": "code",
   "execution_count": 82,
   "metadata": {},
   "outputs": [
    {
     "name": "stdout",
     "output_type": "stream",
     "text": [
      "[[9 2]\n",
      " [1 4]\n",
      " [7 3]]\n",
      "shape: (3, 2)\n",
      "np.reshape: C \n",
      "[[9]\n",
      " [2]\n",
      " [1]\n",
      " [4]\n",
      " [7]\n",
      " [3]]\n",
      "np.reshape: F \n",
      "[[9]\n",
      " [1]\n",
      " [7]\n",
      " [2]\n",
      " [4]\n",
      " [3]]\n"
     ]
    }
   ],
   "source": [
    "arr = np.random.randint(1, 10, (3, 2))\n",
    "print(arr)\n",
    "print('shape:', arr.shape)\n",
    "print('np.reshape: C ')\n",
    "reshapedArrC = arr.reshape((6, 1), order = 'C')\n",
    "print(reshapedArrC)\n",
    "print('np.reshape: F ')\n",
    "reshapedArrF = arr.reshape((6, 1), order = 'F')\n",
    "print(reshapedArrF)"
   ]
  },
  {
   "cell_type": "markdown",
   "metadata": {},
   "source": [
    "# np.max(), np.ptp()"
   ]
  },
  {
   "cell_type": "code",
   "execution_count": 100,
   "metadata": {},
   "outputs": [
    {
     "name": "stdout",
     "output_type": "stream",
     "text": [
      "[[26 30  7  1 22]\n",
      " [ 2 16  0 27 18]]\n",
      "matrix.max(): \t 30\n",
      "matrix.max(0): \t [26 30  7 27 22]\n",
      "matrix.max(1): \t [30 27]\n",
      "matrix.argmax():  1\n",
      "\n",
      "matrix.min() 0\n",
      "...\n",
      "\n",
      "matrix.pkp() 30\n",
      "\n",
      "matrix.pkp(0) [24 14  7 26  4]\n",
      "\n",
      "matrix.pkp(1) [29 27]\n"
     ]
    }
   ],
   "source": [
    "matrix = np.random.randint(0, 50, (2, 5))\n",
    "print(matrix)\n",
    "print('matrix.max(): \\t', matrix.max())\n",
    "print('matrix.max(0): \\t', matrix.max(0))\n",
    "print('matrix.max(1): \\t', matrix.max(1))\n",
    "print('matrix.argmax(): ', matrix.argmax())\n",
    "\n",
    "print('\\nmatrix.min()', matrix.min())\n",
    "print('...')\n",
    "\n",
    "#ptp := peak to peak\n",
    "print('\\nmatrix.pkp()', matrix.ptp()) \n",
    "print('\\nmatrix.pkp(0)', matrix.ptp(0))\n",
    "print('\\nmatrix.pkp(1)', matrix.ptp(1))  "
   ]
  },
  {
   "cell_type": "markdown",
   "metadata": {},
   "source": [
    "# np.percentile(), np.sort()"
   ]
  },
  {
   "cell_type": "code",
   "execution_count": 129,
   "metadata": {},
   "outputs": [
    {
     "name": "stdout",
     "output_type": "stream",
     "text": [
      "[[16 39  9 23 15]\n",
      " [14 35 29  5 17]]\n",
      "5.0\n",
      "16.5\n",
      "39.0\n",
      "np.median(matrix): 16.5\n",
      "np.median(matrix, 0): [15. 37. 19. 14. 16.]\n",
      "np.median(matrix, 1): [16. 17.]\n",
      "matrix.std(1): [10.30727898 10.73312629]\n",
      "matrix.std(0) ** 2: [  1.   4. 100.  81.   1.]\n",
      "matrix.var(0): [  1.   4. 100.  81.   1.]\n",
      "matrix.mean(1): [20.4 20. ]\n",
      "\n",
      "matrix.sort(0)\n",
      "[[14 35  9  5 15]\n",
      " [16 39 29 23 17]]\n"
     ]
    }
   ],
   "source": [
    "matrix = np.random.randint(0, 50, (2, 5))\n",
    "print(matrix)\n",
    "print(np.percentile(matrix, 0))\n",
    "print(np.percentile(matrix, 50))\n",
    "print(np.percentile(matrix, 100))\n",
    "\n",
    "print('np.median(matrix):', np.median(matrix))\n",
    "print('np.median(matrix, 0):', np.median(matrix, 0))\n",
    "print('np.median(matrix, 1):', np.median(matrix, 1))\n",
    "\n",
    "print('matrix.std(1):', matrix.std(1))\n",
    "\n",
    "print('matrix.std(0) ** 2:', matrix.std(0) ** 2)\n",
    "print('matrix.var(0):', matrix.var(0))\n",
    "\n",
    "print('matrix.mean(1):', matrix.mean(1))\n",
    "\n",
    "matrix.sort(0)\n",
    "print('\\nmatrix.sort(0)')\n",
    "print(matrix)"
   ]
  },
  {
   "cell_type": "markdown",
   "metadata": {},
   "source": [
    "# np.concatenate(), np.T"
   ]
  },
  {
   "cell_type": "code",
   "execution_count": 157,
   "metadata": {},
   "outputs": [
    {
     "name": "stdout",
     "output_type": "stream",
     "text": [
      "a:\n",
      "[[1 2]\n",
      " [3 4]]\n",
      "\n",
      "b:\n",
      "[5 6]\n",
      "\n",
      "np.expand_dims(c, axis = 1): \n",
      "[[5]\n",
      " [6]]\n",
      "np.concatenate((a, c), axis = 1)\n",
      "[[1 2 5]\n",
      " [3 4 6]]\n",
      "np.concatenate((a, c.T), axis = 0)\n",
      "[[1 2]\n",
      " [3 4]\n",
      " [5 6]]\n"
     ]
    }
   ],
   "source": [
    "a = np.array([[1, 2], [3, 4]])\n",
    "print('a:')\n",
    "print(a)\n",
    "\n",
    "b = np.array([5, 6])\n",
    "print('\\nb:')\n",
    "print(b)\n",
    "\n",
    "c = np.expand_dims(b, axis = 1)\n",
    "print('\\nnp.expand_dims(c, axis = 1): ')\n",
    "print(c)\n",
    "print('np.concatenate((a, c), axis = 1)')\n",
    "print(np.concatenate((a, c), axis = 1))\n",
    "\n",
    "#d = np.expand_dims(b, axis = 0)\n",
    "#print('\\nnp.expand_dims(d, axis = 0): ')\n",
    "#print(d)\n",
    "print('np.concatenate((a, c.T), axis = 0)')\n",
    "print(np.concatenate((a, c.T), axis = 0))"
   ]
  }
 ],
 "metadata": {
  "kernelspec": {
   "display_name": "Python 3.9.12 ('base')",
   "language": "python",
   "name": "python3"
  },
  "language_info": {
   "codemirror_mode": {
    "name": "ipython",
    "version": 3
   },
   "file_extension": ".py",
   "mimetype": "text/x-python",
   "name": "python",
   "nbconvert_exporter": "python",
   "pygments_lexer": "ipython3",
   "version": "3.9.12"
  },
  "orig_nbformat": 4,
  "vscode": {
   "interpreter": {
    "hash": "66e37a4da3c390ba9102db785636e2db61d518923b2ca2e4091350072f76ee72"
   }
  }
 },
 "nbformat": 4,
 "nbformat_minor": 2
}
